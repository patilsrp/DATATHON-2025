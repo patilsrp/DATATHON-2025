{
 "cells": [
  {
   "cell_type": "code",
   "execution_count": 16,
   "metadata": {},
   "outputs": [],
   "source": [
    "import pandas as pd\n",
    "import numpy as np\n",
    "df=pd.read_csv(\"C:\\\\Users\\\\Smruti Deshpande\\\\Desktop\\\\Projects\\\\Datathon_kj\\\\elearning_churn_dataset.csv\")"
   ]
  },
  {
   "cell_type": "code",
   "execution_count": 17,
   "metadata": {},
   "outputs": [
    {
     "name": "stderr",
     "output_type": "stream",
     "text": [
      "C:\\Users\\Smruti Deshpande\\AppData\\Local\\Temp\\ipykernel_20708\\1546909399.py:13: FutureWarning: Series.fillna with 'method' is deprecated and will raise in a future version. Use obj.ffill() or obj.bfill() instead.\n",
      "  df[categorical_cols] = df[categorical_cols].apply(lambda x: x.fillna(method='ffill'))\n"
     ]
    }
   ],
   "source": [
    "import pandas as pd\n",
    "import numpy as np\n",
    "from sklearn.model_selection import train_test_split\n",
    "from sklearn.preprocessing import StandardScaler, LabelEncoder\n",
    "\n",
    "# Handle Missing Values\n",
    "# For numerical columns, we fill with median or mean based on the nature of the column\n",
    "numerical_cols = df.select_dtypes(include=['float64', 'int64']).columns\n",
    "df[numerical_cols] = df[numerical_cols].apply(lambda x: x.fillna(x.median()))\n",
    "\n",
    "# For categorical columns, we fill missing values using forward fill or backward fill\n",
    "categorical_cols = df.select_dtypes(include=['object']).columns\n",
    "df[categorical_cols] = df[categorical_cols].apply(lambda x: x.fillna(method='ffill'))\n",
    "\n",
    "# Handle Duplicates\n",
    "df = df.drop_duplicates()\n",
    "\n",
    "# Feature Engineering\n",
    "\n",
    "# Encode Categorical Features\n",
    "encoder = LabelEncoder()\n",
    "df['Subscription Plan'] = encoder.fit_transform(df['Subscription Plan'])\n",
    "df['Feedback Sentiment'] = encoder.fit_transform(df['Feedback Sentiment'])\n",
    "df['Support Ticket Sentiment'] = encoder.fit_transform(df['Support Ticket Sentiment'])\n",
    "df['Course Reminder Response'] = encoder.fit_transform(df['Course Reminder Response'])\n",
    "df['Gamified Progress Engagement'] = encoder.fit_transform(df['Gamified Progress Engagement'])\n",
    "\n",
    "# Convert Date columns to datetime\n",
    "df['Enrollment Date'] = pd.to_datetime(df['Enrollment Date'], format='%d-%m-%Y')\n",
    "df['Last Active Date'] = pd.to_datetime(df['Last Active Date'], format='%d-%m-%Y')\n",
    "\n",
    "# Calculate the days since last active\n",
    "df['Days Since Last Active'] = (pd.to_datetime('today') - df['Last Active Date']).dt.days\n",
    "# Calculate Engagement Score\n",
    "\n",
    "# Formula for Engagement Score\n",
    "df['Engagement Score'] = (\n",
    "    df['Login Frequency (per month)'] * \n",
    "    df['Time Spent per Session (mins)'] *\n",
    "    (1 / (df['Days Since Last Active'] + 1)) *  # Inverse relationship with days since last active (more recent activity = higher score)\n",
    "    df['Forum Participation'] * \n",
    "    df['Quiz Participation Rate']\n",
    ")\n",
    "\n",
    "# Ensure no negative values by adjusting if necessary (adding offset)\n",
    "df['Engagement Score'] = df['Engagement Score'] - df['Engagement Score'].min()  # Shift the scores to start from zero\n",
    "\n",
    "# Apply Min-Max Scaling to range [1, 100]\n",
    "df['Engagement Score'] = (df['Engagement Score'] / df['Engagement Score'].max()) * 99 + 1  # Scale to range 1-100\n",
    "\n",
    "\n",
    "# Normalize numerical features\n",
    "scaler = StandardScaler()\n",
    "df[numerical_cols] = scaler.fit_transform(df[numerical_cols])\n",
    "\n",
    "# Separate Independent Variables and Target Variable\n",
    "X = df.drop(['churn'], axis=1)  # Independent features\n",
    "y = df['churn']  # Target variable\n"
   ]
  },
  {
   "cell_type": "code",
   "execution_count": 4,
   "metadata": {},
   "outputs": [
    {
     "name": "stdout",
     "output_type": "stream",
     "text": [
      "Requirement already satisfied: xgboost in c:\\users\\smruti deshpande\\anaconda3\\lib\\site-packages (2.1.3)\n",
      "Requirement already satisfied: numpy in c:\\users\\smruti deshpande\\anaconda3\\lib\\site-packages (from xgboost) (1.26.4)\n",
      "Requirement already satisfied: scipy in c:\\users\\smruti deshpande\\anaconda3\\lib\\site-packages (from xgboost) (1.13.1)\n",
      "Note: you may need to restart the kernel to use updated packages.\n"
     ]
    }
   ],
   "source": [
    "%pip install xgboost"
   ]
  }
 ],
 "metadata": {
  "kernelspec": {
   "display_name": "base",
   "language": "python",
   "name": "python3"
  },
  "language_info": {
   "codemirror_mode": {
    "name": "ipython",
    "version": 3
   },
   "file_extension": ".py",
   "mimetype": "text/x-python",
   "name": "python",
   "nbconvert_exporter": "python",
   "pygments_lexer": "ipython3",
   "version": "3.12.7"
  }
 },
 "nbformat": 4,
 "nbformat_minor": 2
}
